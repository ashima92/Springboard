{
 "cells": [
  {
   "cell_type": "code",
   "execution_count": 1,
   "metadata": {
    "collapsed": true
   },
   "outputs": [],
   "source": [
    "import pandas as pd\n",
    "import numpy as np"
   ]
  },
  {
   "cell_type": "code",
   "execution_count": 2,
   "metadata": {
    "collapsed": true
   },
   "outputs": [],
   "source": [
    "rng = pd.date_range('1/1/2011', periods=72, freq='H')\n",
    "ts = pd.Series(np.random.randn(len(rng)), index=rng)"
   ]
  },
  {
   "cell_type": "code",
   "execution_count": 5,
   "metadata": {},
   "outputs": [
    {
     "data": {
      "text/plain": [
       "2011-01-01 00:00:00   -1.008964\n",
       "2011-01-01 01:10:00    1.835339\n",
       "2011-01-01 02:20:00    1.103784\n",
       "2011-01-01 03:30:00    0.316107\n",
       "2011-01-01 04:40:00   -0.284728\n",
       "2011-01-01 05:50:00    1.239431\n",
       "2011-01-01 07:00:00    1.700367\n",
       "2011-01-01 08:10:00    0.636828\n",
       "2011-01-01 09:20:00    0.234348\n",
       "2011-01-01 10:30:00   -0.601540\n",
       "2011-01-01 11:40:00    1.372036\n",
       "2011-01-01 12:50:00   -0.769941\n",
       "2011-01-01 14:00:00   -1.928474\n",
       "2011-01-01 15:10:00    1.109862\n",
       "2011-01-01 16:20:00    0.278111\n",
       "2011-01-01 17:30:00    0.234624\n",
       "2011-01-01 18:40:00   -1.185013\n",
       "2011-01-01 19:50:00    1.954994\n",
       "2011-01-01 21:00:00    0.710437\n",
       "2011-01-01 22:10:00    0.030630\n",
       "2011-01-01 23:20:00    0.651816\n",
       "2011-01-02 00:30:00   -0.583629\n",
       "2011-01-02 01:40:00   -0.583173\n",
       "2011-01-02 02:50:00    2.401179\n",
       "2011-01-02 04:00:00    0.442700\n",
       "2011-01-02 05:10:00   -0.860047\n",
       "2011-01-02 06:20:00    0.788153\n",
       "2011-01-02 07:30:00    0.578594\n",
       "2011-01-02 08:40:00    2.004924\n",
       "2011-01-02 09:50:00    0.200295\n",
       "                         ...   \n",
       "2011-01-02 12:10:00   -0.109604\n",
       "2011-01-02 13:20:00    0.230883\n",
       "2011-01-02 14:30:00    0.544353\n",
       "2011-01-02 15:40:00    1.507575\n",
       "2011-01-02 16:50:00    1.083572\n",
       "2011-01-02 18:00:00   -0.693807\n",
       "2011-01-02 19:10:00   -0.715882\n",
       "2011-01-02 20:20:00   -1.217557\n",
       "2011-01-02 21:30:00    0.051348\n",
       "2011-01-02 22:40:00    0.241408\n",
       "2011-01-02 23:50:00    0.820884\n",
       "2011-01-03 01:00:00   -1.707176\n",
       "2011-01-03 02:10:00    0.006248\n",
       "2011-01-03 03:20:00   -0.232905\n",
       "2011-01-03 04:30:00    1.293135\n",
       "2011-01-03 05:40:00    0.294719\n",
       "2011-01-03 06:50:00   -0.093299\n",
       "2011-01-03 08:00:00    1.607603\n",
       "2011-01-03 09:10:00    0.408105\n",
       "2011-01-03 10:20:00   -1.024257\n",
       "2011-01-03 11:30:00   -0.992324\n",
       "2011-01-03 12:40:00    0.512798\n",
       "2011-01-03 13:50:00   -0.653980\n",
       "2011-01-03 15:00:00   -0.146009\n",
       "2011-01-03 16:10:00   -0.759376\n",
       "2011-01-03 17:20:00   -1.236893\n",
       "2011-01-03 18:30:00   -0.147762\n",
       "2011-01-03 19:40:00    0.557856\n",
       "2011-01-03 20:50:00    1.425819\n",
       "2011-01-03 22:00:00   -0.137399\n",
       "Freq: 70T, Length: 61, dtype: float64"
      ]
     },
     "execution_count": 5,
     "metadata": {},
     "output_type": "execute_result"
    }
   ],
   "source": [
    "converted = ts.asfreq('70Min', method='pad')\n",
    "\n",
    "converted"
   ]
  },
  {
   "cell_type": "code",
   "execution_count": null,
   "metadata": {
    "collapsed": true
   },
   "outputs": [],
   "source": [
    "# Does asfreq change the # of rows?\n",
    "\n",
    "#yes, it directly affects the length of the array"
   ]
  },
  {
   "cell_type": "code",
   "execution_count": null,
   "metadata": {},
   "outputs": [],
   "source": [
    "# What do the different methods do?\n",
    "# method : {‘backfill’, ‘bfill’, ‘pad’, ‘ffill’, None}\n",
    "\n",
    "#Interpolates in between two values to fill in empty values based on linear exptrapolation"
   ]
  },
  {
   "cell_type": "code",
   "execution_count": null,
   "metadata": {},
   "outputs": [],
   "source": [
    "# Might any of these methods have pitfalls from a logical point of view?\n",
    "\n",
    "#Can lead to over-fitting when outside of time barriers"
   ]
  },
  {
   "cell_type": "code",
   "execution_count": null,
   "metadata": {
    "collapsed": true
   },
   "outputs": [],
   "source": [
    "# What's the difference between going to a higher frequency and a lower frequency?\n",
    "\n",
    "#higher frequency means less time values"
   ]
  },
  {
   "cell_type": "code",
   "execution_count": 8,
   "metadata": {},
   "outputs": [
    {
     "data": {
      "text/plain": [
       "2011-01-01 00:00:00   -1.008964\n",
       "2011-01-01 00:05:00    1.835339\n",
       "2011-01-01 00:10:00    1.835339\n",
       "2011-01-01 00:15:00    1.835339\n",
       "2011-01-01 00:20:00    1.835339\n",
       "2011-01-01 00:25:00    1.835339\n",
       "2011-01-01 00:30:00    1.835339\n",
       "2011-01-01 00:35:00    1.835339\n",
       "2011-01-01 00:40:00    1.835339\n",
       "2011-01-01 00:45:00    1.835339\n",
       "2011-01-01 00:50:00    1.835339\n",
       "2011-01-01 00:55:00    1.835339\n",
       "2011-01-01 01:00:00    1.835339\n",
       "2011-01-01 01:05:00    1.103784\n",
       "2011-01-01 01:10:00    1.103784\n",
       "2011-01-01 01:15:00    1.103784\n",
       "2011-01-01 01:20:00    1.103784\n",
       "2011-01-01 01:25:00    1.103784\n",
       "2011-01-01 01:30:00    1.103784\n",
       "2011-01-01 01:35:00    1.103784\n",
       "2011-01-01 01:40:00    1.103784\n",
       "2011-01-01 01:45:00    1.103784\n",
       "2011-01-01 01:50:00    1.103784\n",
       "2011-01-01 01:55:00    1.103784\n",
       "2011-01-01 02:00:00    1.103784\n",
       "2011-01-01 02:05:00    0.316107\n",
       "2011-01-01 02:10:00    0.316107\n",
       "2011-01-01 02:15:00    0.316107\n",
       "2011-01-01 02:20:00    0.316107\n",
       "2011-01-01 02:25:00    0.316107\n",
       "                         ...   \n",
       "2011-01-03 20:35:00    1.139781\n",
       "2011-01-03 20:40:00    1.139781\n",
       "2011-01-03 20:45:00    1.139781\n",
       "2011-01-03 20:50:00    1.139781\n",
       "2011-01-03 20:55:00    1.139781\n",
       "2011-01-03 21:00:00    1.139781\n",
       "2011-01-03 21:05:00   -0.137399\n",
       "2011-01-03 21:10:00   -0.137399\n",
       "2011-01-03 21:15:00   -0.137399\n",
       "2011-01-03 21:20:00   -0.137399\n",
       "2011-01-03 21:25:00   -0.137399\n",
       "2011-01-03 21:30:00   -0.137399\n",
       "2011-01-03 21:35:00   -0.137399\n",
       "2011-01-03 21:40:00   -0.137399\n",
       "2011-01-03 21:45:00   -0.137399\n",
       "2011-01-03 21:50:00   -0.137399\n",
       "2011-01-03 21:55:00   -0.137399\n",
       "2011-01-03 22:00:00   -0.137399\n",
       "2011-01-03 22:05:00    1.021995\n",
       "2011-01-03 22:10:00    1.021995\n",
       "2011-01-03 22:15:00    1.021995\n",
       "2011-01-03 22:20:00    1.021995\n",
       "2011-01-03 22:25:00    1.021995\n",
       "2011-01-03 22:30:00    1.021995\n",
       "2011-01-03 22:35:00    1.021995\n",
       "2011-01-03 22:40:00    1.021995\n",
       "2011-01-03 22:45:00    1.021995\n",
       "2011-01-03 22:50:00    1.021995\n",
       "2011-01-03 22:55:00    1.021995\n",
       "2011-01-03 23:00:00    1.021995\n",
       "Freq: 5T, Length: 853, dtype: float64"
      ]
     },
     "execution_count": 8,
     "metadata": {},
     "output_type": "execute_result"
    }
   ],
   "source": [
    "converted = ts.asfreq('5Min', method = 'bfill')\n",
    "\n",
    "converted"
   ]
  },
  {
   "cell_type": "code",
   "execution_count": null,
   "metadata": {
    "collapsed": true
   },
   "outputs": [],
   "source": [
    "# What's different logically about going to a higher frequency vs a lower frequency? \n",
    "# What do you want to do when switching to a lower freqeuncy that is not logical when switching to a higher frequency?\n",
    "\n",
    "#You need to make sure that there is enough data/space to move to a lower frequency"
   ]
  },
  {
   "cell_type": "code",
   "execution_count": 11,
   "metadata": {},
   "outputs": [
    {
     "data": {
      "text/plain": [
       "2011-01-01 00:00:00   -1.008964\n",
       "2011-01-01 00:05:00         NaN\n",
       "2011-01-01 00:10:00         NaN\n",
       "2011-01-01 00:15:00         NaN\n",
       "2011-01-01 00:20:00         NaN\n",
       "2011-01-01 00:25:00         NaN\n",
       "2011-01-01 00:30:00         NaN\n",
       "2011-01-01 00:35:00         NaN\n",
       "2011-01-01 00:40:00         NaN\n",
       "2011-01-01 00:45:00         NaN\n",
       "2011-01-01 00:50:00         NaN\n",
       "2011-01-01 00:55:00         NaN\n",
       "2011-01-01 01:00:00    1.835339\n",
       "2011-01-01 01:05:00         NaN\n",
       "2011-01-01 01:10:00         NaN\n",
       "2011-01-01 01:15:00         NaN\n",
       "2011-01-01 01:20:00         NaN\n",
       "2011-01-01 01:25:00         NaN\n",
       "2011-01-01 01:30:00         NaN\n",
       "2011-01-01 01:35:00         NaN\n",
       "2011-01-01 01:40:00         NaN\n",
       "2011-01-01 01:45:00         NaN\n",
       "2011-01-01 01:50:00         NaN\n",
       "2011-01-01 01:55:00         NaN\n",
       "2011-01-01 02:00:00    1.103784\n",
       "2011-01-01 02:05:00         NaN\n",
       "2011-01-01 02:10:00         NaN\n",
       "2011-01-01 02:15:00         NaN\n",
       "2011-01-01 02:20:00         NaN\n",
       "2011-01-01 02:25:00         NaN\n",
       "                         ...   \n",
       "2011-01-03 20:35:00         NaN\n",
       "2011-01-03 20:40:00         NaN\n",
       "2011-01-03 20:45:00         NaN\n",
       "2011-01-03 20:50:00         NaN\n",
       "2011-01-03 20:55:00         NaN\n",
       "2011-01-03 21:00:00    1.139781\n",
       "2011-01-03 21:05:00         NaN\n",
       "2011-01-03 21:10:00         NaN\n",
       "2011-01-03 21:15:00         NaN\n",
       "2011-01-03 21:20:00         NaN\n",
       "2011-01-03 21:25:00         NaN\n",
       "2011-01-03 21:30:00         NaN\n",
       "2011-01-03 21:35:00         NaN\n",
       "2011-01-03 21:40:00         NaN\n",
       "2011-01-03 21:45:00         NaN\n",
       "2011-01-03 21:50:00         NaN\n",
       "2011-01-03 21:55:00         NaN\n",
       "2011-01-03 22:00:00   -0.137399\n",
       "2011-01-03 22:05:00         NaN\n",
       "2011-01-03 22:10:00         NaN\n",
       "2011-01-03 22:15:00         NaN\n",
       "2011-01-03 22:20:00         NaN\n",
       "2011-01-03 22:25:00         NaN\n",
       "2011-01-03 22:30:00         NaN\n",
       "2011-01-03 22:35:00         NaN\n",
       "2011-01-03 22:40:00         NaN\n",
       "2011-01-03 22:45:00         NaN\n",
       "2011-01-03 22:50:00         NaN\n",
       "2011-01-03 22:55:00         NaN\n",
       "2011-01-03 23:00:00    1.021995\n",
       "Freq: 5T, Length: 853, dtype: float64"
      ]
     },
     "execution_count": 11,
     "metadata": {},
     "output_type": "execute_result"
    }
   ],
   "source": [
    "ts.resample('5T').sum()"
   ]
  },
  {
   "cell_type": "code",
   "execution_count": null,
   "metadata": {
    "collapsed": true
   },
   "outputs": [],
   "source": [
    "# What if you want to downsample and you don't want to ffill or bfill?"
   ]
  },
  {
   "cell_type": "code",
   "execution_count": null,
   "metadata": {
    "collapsed": true
   },
   "outputs": [],
   "source": [
    "# What is the difference between .resample() and .asfreq()?\n",
    "\n",
    "#NaN errors"
   ]
  },
  {
   "cell_type": "code",
   "execution_count": null,
   "metadata": {
    "collapsed": true
   },
   "outputs": [],
   "source": [
    "# What are some special things you can do with .resample() you can't do with .asfreq()?\n",
    "\n",
    "#random values"
   ]
  },
  {
   "cell_type": "code",
   "execution_count": null,
   "metadata": {
    "collapsed": true
   },
   "outputs": [],
   "source": []
  }
 ],
 "metadata": {
  "kernelspec": {
   "display_name": "Python 3",
   "language": "python",
   "name": "python3"
  },
  "language_info": {
   "codemirror_mode": {
    "name": "ipython",
    "version": 3
   },
   "file_extension": ".py",
   "mimetype": "text/x-python",
   "name": "python",
   "nbconvert_exporter": "python",
   "pygments_lexer": "ipython3",
   "version": "3.6.1"
  },
  "widgets": {
   "state": {},
   "version": "1.1.1"
  }
 },
 "nbformat": 4,
 "nbformat_minor": 1
}
