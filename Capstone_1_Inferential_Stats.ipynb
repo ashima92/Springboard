{
 "cells": [
  {
   "cell_type": "code",
   "execution_count": 2,
   "metadata": {
    "collapsed": false
   },
   "outputs": [
    {
     "name": "stderr",
     "output_type": "stream",
     "text": [
      "/opt/conda/lib/python3.5/site-packages/ipykernel/__main__.py:19: FutureWarning: convert_objects is deprecated.  Use the data-type specific converters pd.to_datetime, pd.to_timedelta and pd.to_numeric.\n"
     ]
    },
    {
     "data": {
      "text/plain": [
       "0        01/01/1976\n",
       "1        01/01/1992\n",
       "2        01/01/2002\n",
       "3        01/01/2008\n",
       "4        01/01/2009\n",
       "5        01/01/2010\n",
       "6        01/01/2011\n",
       "7        01/01/2011\n",
       "8        01/01/2011\n",
       "9        01/01/2011\n",
       "10       01/01/2012\n",
       "11       01/01/2012\n",
       "12       01/01/2012\n",
       "13       01/01/2012\n",
       "14       01/01/2013\n",
       "15       01/01/2013\n",
       "16       01/01/2013\n",
       "17       01/01/2015\n",
       "18       01/01/2016\n",
       "19       01/02/1988\n",
       "20       01/02/1999\n",
       "21       01/02/2001\n",
       "24       01/02/2009\n",
       "25       01/02/2009\n",
       "27       01/02/2009\n",
       "28       01/02/2009\n",
       "29       01/02/2009\n",
       "30       01/02/2009\n",
       "31       01/02/2009\n",
       "35       01/02/2009\n",
       "            ...    \n",
       "79224           NaN\n",
       "79225           NaN\n",
       "79226           NaN\n",
       "79227           NaN\n",
       "79228           NaN\n",
       "79229           NaN\n",
       "79230           NaN\n",
       "79231           NaN\n",
       "79232           NaN\n",
       "79233           NaN\n",
       "79234           NaN\n",
       "79235           NaN\n",
       "79236           NaN\n",
       "79237           NaN\n",
       "79238           NaN\n",
       "79239           NaN\n",
       "79240           NaN\n",
       "79241           NaN\n",
       "79242           NaN\n",
       "79247           NaN\n",
       "79248           NaN\n",
       "79249           NaN\n",
       "79250           NaN\n",
       "79251           NaN\n",
       "79252           NaN\n",
       "79253           NaN\n",
       "79254           NaN\n",
       "79255           NaN\n",
       "79256           NaN\n",
       "79257           NaN\n",
       "Name: SPUD Date, dtype: object"
      ]
     },
     "execution_count": 2,
     "metadata": {},
     "output_type": "execute_result"
    }
   ],
   "source": [
    "#Bring in excel file\n",
    "import pandas as pd\n",
    "import numpy as np\n",
    "import matplotlib\n",
    "\n",
    "#Parse into dataframe\n",
    "xl = pd.ExcelFile('Capstone_Project_1.xlsx')\n",
    "\n",
    "#Skip blank rows, parse first first sheet\n",
    "Wells_DF = xl.parse(\"CA DOGGR Wells\",skiprows=3, index_col=None)\n",
    "\n",
    "#Filter on OG\n",
    "Wells_DF= Wells_DF[Wells_DF['Pool WellTypes'].str.contains('OG', na= False)]\n",
    "\n",
    "#Split on comma\n",
    "Wells_DF['Field Name'] = Wells_DF['Field Name'].str.split(',').str[0]\n",
    "\n",
    "#Convert Spud Date from object to date\n",
    "Wells_DF['SPUD Date'].convert_objects(convert_dates=True)\n"
   ]
  },
  {
   "cell_type": "code",
   "execution_count": 3,
   "metadata": {
    "collapsed": false
   },
   "outputs": [
    {
     "data": {
      "text/plain": [
       "KruskalResult(statistic=8.0855566482182741, pvalue=0.0044619423846561646)"
      ]
     },
     "execution_count": 3,
     "metadata": {},
     "output_type": "execute_result"
    }
   ],
   "source": [
    "import scipy.stats as stats\n",
    "import statsmodels.api as sm\n",
    "import numpy as np\n",
    "import pandas as pd\n",
    "\n",
    "a = Wells_DF['Longitude']\n",
    "b = Wells_DF['Latitude']\n",
    "\n",
    "a_mean = stats.trim_mean(a, 0.1)\n",
    "b_mean = stats.trim_mean(b, 0.1)\n",
    "\n",
    "a_skew = stats.skew(a, axis=0, bias=True, nan_policy='propagate')\n",
    "#more weight in right tail of distribution\n",
    "\n",
    "b_skew = stats.skew(b, axis=0, bias=True, nan_policy='propagate')\n",
    "#more weight in right tail of distribution\n",
    "\n",
    "#going to test whether wells drilled after certain year have similar location or if it has shifted. Use alpha of 0.05.\n",
    "#p-value is less than alpha, so can reject null for Long, but cannot for Lat. Kruskal is less powerful method for ANOVA\n",
    "\n",
    "s= '1/1/2014'\n",
    "a_year_2014 = Wells_DF[Wells_DF['SPUD Date'] >= s]['Longitude']\n",
    "a_year = Wells_DF[Wells_DF['SPUD Date'] < s]['Longitude']\n",
    "b_year_2014 = Wells_DF[Wells_DF['SPUD Date'] >= s]['Latitude']\n",
    "b_year = Wells_DF[Wells_DF['SPUD Date'] < s]['Latitude']\n",
    "\n",
    "a_k = stats.kruskal(a_year_2014, a_year)\n",
    "b_k = stats.kruskal(b_year_2014, b_year)\n",
    "\n",
    "a_skew\n",
    "b_skew\n",
    "a_k\n",
    "b_k"
   ]
  },
  {
   "cell_type": "code",
   "execution_count": 46,
   "metadata": {
    "collapsed": false
   },
   "outputs": [
    {
     "data": {
      "text/plain": [
       "Year\n",
       "1986    15.036667\n",
       "1987    19.171667\n",
       "1988    15.982500\n",
       "1989    19.640833\n",
       "1990    24.467500\n",
       "1991    21.502500\n",
       "1992    20.563333\n",
       "1993    18.450833\n",
       "1994    17.191667\n",
       "1995    18.439167\n",
       "1996    22.113333\n",
       "1997    20.610000\n",
       "1998    14.446667\n",
       "1999    19.260833\n",
       "2000    30.300833\n",
       "2001    25.947500\n",
       "2002    26.115000\n",
       "2003    31.120833\n",
       "2004    41.443333\n",
       "2005    56.492500\n",
       "2006    66.018333\n",
       "2007    72.318333\n",
       "2008    99.571667\n",
       "2009    61.654167\n",
       "2010    79.395000\n",
       "2011    94.874167\n",
       "2012    94.110833\n",
       "2013    97.905833\n",
       "2014    93.258333\n",
       "2015    48.688333\n",
       "2016    43.144167\n",
       "2017    50.968000\n",
       "Name: Oil Price, dtype: float64"
      ]
     },
     "execution_count": 46,
     "metadata": {},
     "output_type": "execute_result"
    }
   ],
   "source": [
    "Wells_DF['SPUD Date'] = pd.to_datetime(Wells_DF['SPUD Date'])\n",
    "Wells_DF['Spud Year'] = Wells_DF['SPUD Date'].apply(lambda x: x.year)\n",
    "\n",
    "\n",
    "#Computer well count by year for data\n",
    "Wells_DF['Well Count'] = Wells_DF.groupby(['Spud Year'])['Well #'].count()\n",
    "\n",
    "#Parse into dataframe\n",
    "xl = pd.ExcelFile('Capstone_Project_1.xlsx')\n",
    "\n",
    "#Bring in Oil Price and join two dataframes on Year\n",
    "Oil_DF = xl.parse(\"Crude Oil Price\",skiprows=2, index_col=None)\n",
    "Oil_DF['Year'] = Oil_DF['Date'].apply(lambda x: x.year)\n",
    "Oil_DF.columns = ['Date', 'Oil Price', 'Year']\n",
    "\n",
    "\n",
    "Oil_DF['Oil Price'].groupby([Oil_DF['Year']]).mean()\n",
    "\n",
    "\n",
    "#joining table\n",
    "#Oil_DF = Oil_DF[['Year','Average Annual Oil Price']]\n",
    "#Small_Well_DF = Wells_DF[['Spud Year','Well Count']]\n",
    "#Oil_DF.join(Small_Well_DF, lsuffix='Year', rsuffix='Spud Year')\n"
   ]
  }
 ],
 "metadata": {
  "kernelspec": {
   "display_name": "Python 3",
   "language": "python",
   "name": "python3"
  },
  "language_info": {
   "codemirror_mode": {
    "name": "ipython",
    "version": 3
   },
   "file_extension": ".py",
   "mimetype": "text/x-python",
   "name": "python",
   "nbconvert_exporter": "python",
   "pygments_lexer": "ipython3",
   "version": "3.5.2"
  }
 },
 "nbformat": 4,
 "nbformat_minor": 1
}
